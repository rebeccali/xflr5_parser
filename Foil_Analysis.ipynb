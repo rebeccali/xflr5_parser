{
  "nbformat": 4,
  "nbformat_minor": 0,
  "metadata": {
    "colab": {
      "name": "Foil Analysis.ipynb",
      "version": "0.3.2",
      "provenance": [],
      "include_colab_link": true
    },
    "kernelspec": {
      "name": "python3",
      "display_name": "Python 3"
    }
  },
  "cells": [
    {
      "cell_type": "markdown",
      "metadata": {
        "id": "view-in-github",
        "colab_type": "text"
      },
      "source": [
        "<a href=\"https://colab.research.google.com/github/rebeccali/xflr5_parser/blob/master/Foil_Analysis.ipynb\" target=\"_parent\"><img src=\"https://colab.research.google.com/assets/colab-badge.svg\" alt=\"Open In Colab\"/></a>"
      ]
    },
    {
      "metadata": {
        "id": "aGdzpDxvOzx3",
        "colab_type": "code",
        "colab": {}
      },
      "cell_type": "code",
      "source": [
        "%matplotlib inline\n",
        "\n",
        "import matplotlib.pyplot as plt\n",
        "import numpy as np"
      ],
      "execution_count": 0,
      "outputs": []
    },
    {
      "metadata": {
        "id": "LFRf7BzfO05O",
        "colab_type": "text"
      },
      "cell_type": "markdown",
      "source": [
        "This is a simple analysis to find the maximum pitch up moment for a given alpha. We integrate this over time in order to find out how long it takes to do this.\n",
        "\n",
        "We have some $C_M(alpha)$ and $C_L(\\alpha)$, and can use this plus max thrust to derive \n",
        "pitch acceleration or $\\ddot{\\alpha} = f(\\alpha)$. Then we simply integrate this to get $\\alpha(t)$, $\\alpha(0) = 0$, $\\alpha(T) > 90^o$\n",
        "\n",
        "$\\ddot{\\alpha} = -C_L(\\alpha) q S r_L + C_M(\\alpha) q S c + r_T T sin\\theta$\n",
        "\n",
        "\n",
        "\n",
        "* S is wing area\n",
        "* c is chord length\n",
        "* $r_L$ is distance from center of mass to quarter chord\n",
        "* $r_T$ is distance from center of mass to thrust pivot\n",
        "* T is thrust\n",
        "* $\\theta$ is propellor angle, postive being pointed up\n",
        "\n",
        "\n",
        "The numeric integration we need to perform is:\n",
        "\n",
        "$\\alpha(T) = \\int\\int\\ddot{\\alpha} dt dt $\n",
        "\n",
        "The limits of integration [0,T] don't matter as long as T is long enough such that we see how long it takes to hit 90 degrees. \n",
        "\n"
      ]
    },
    {
      "metadata": {
        "id": "9J3OueVlShAU",
        "colab_type": "code",
        "colab": {}
      },
      "cell_type": "code",
      "source": [
        ""
      ],
      "execution_count": 0,
      "outputs": []
    }
  ]
}
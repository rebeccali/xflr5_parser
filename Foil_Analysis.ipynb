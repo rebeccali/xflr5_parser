{
  "nbformat": 4,
  "nbformat_minor": 0,
  "metadata": {
    "colab": {
      "name": "Foil Analysis.ipynb",
      "version": "0.3.2",
      "provenance": [],
      "include_colab_link": true
    },
    "kernelspec": {
      "name": "python3",
      "display_name": "Python 3"
    }
  },
  "cells": [
    {
      "cell_type": "markdown",
      "metadata": {
        "id": "view-in-github",
        "colab_type": "text"
      },
      "source": [
        "<a href=\"https://colab.research.google.com/github/rebeccali/xflr5_parser/blob/master/Foil_Analysis.ipynb\" target=\"_parent\"><img src=\"https://colab.research.google.com/assets/colab-badge.svg\" alt=\"Open In Colab\"/></a>"
      ]
    },
    {
      "metadata": {
        "id": "aGdzpDxvOzx3",
        "colab_type": "code",
        "colab": {}
      },
      "cell_type": "code",
      "source": [
        "%matplotlib inline\n",
        "\n",
        "import matplotlib.pyplot as plt\n",
        "import numpy as np\n",
        "import pandas as pd \n",
        "import scipy.integrate as scint\n",
        "import scipy.interpolate as scipo"
      ],
      "execution_count": 0,
      "outputs": []
    },
    {
      "metadata": {
        "id": "LFRf7BzfO05O",
        "colab_type": "text"
      },
      "cell_type": "markdown",
      "source": [
        "This is a simple analysis to find the maximum pitch up moment for a given alpha. We integrate this over time in order to find out how long it takes to do this.\n",
        "\n",
        "We have some $C_M(alpha)$ and $C_L(\\alpha)$, and can use this plus max thrust to derive \n",
        "pitch acceleration or $\\ddot{\\alpha} = f(\\alpha)$. Then we simply integrate this to get $\\alpha(t)$, $\\alpha(0) = 0$, $\\alpha(T) > 90^o$\n",
        "\n",
        "$\\ddot{\\alpha} = -C_L(\\alpha) q S r_L + C_M(\\alpha) q S c + r_T T sin\\theta$\n",
        "\n",
        "\n",
        "\n",
        "* S is wing area\n",
        "* c is chord length\n",
        "* $r_L$ is distance from center of mass to quarter chord\n",
        "* $r_T$ is distance from center of mass to thrust pivot\n",
        "* T is thrust\n",
        "* $\\theta$ is propellor angle, postive being pointed up\n",
        "\n",
        "\n",
        "The numeric integration we need to perform is:\n",
        "\n",
        "$\\alpha(T) = \\int\\int\\ddot{\\alpha} dt dt $\n",
        "\n",
        "The limits of integration [0,T] don't matter as long as T is long enough such that we see how long it takes to hit 90 degrees. \n",
        "\n"
      ]
    },
    {
      "metadata": {
        "id": "1NwwKUmeV5YJ",
        "colab_type": "code",
        "colab": {}
      },
      "cell_type": "code",
      "source": [
        "# Load the data. testPolar is available in the repo\n",
        "try:\n",
        "  mh45_data = pd.read_csv(\"testPolar.csv\")\n",
        "except:\n",
        "  print(\"Please upload the testPolar.csv gia the sidebar.\")\n",
        "  \n",
        "# print(list(mh45_data))\n",
        "\n",
        "alpha_data = mh45_data['alpha']\n",
        "cl_data = mh45_data['CL']\n",
        "cm_data = mh45_data['Cm']"
      ],
      "execution_count": 0,
      "outputs": []
    },
    {
      "metadata": {
        "id": "eEgZCsmwXgK7",
        "colab_type": "code",
        "colab": {}
      },
      "cell_type": "code",
      "source": [
        "# Set the variables\n",
        "S = 1\n",
        "c = 0.3\n",
        "theta = 8*np.pi/180\n",
        "T = 5\n",
        "r_L = 0.02\n",
        "r_T = 0.08\n",
        "q = 0.5*1.225*2**2 # 0.5 rho v^2 \n",
        "\n",
        "cl = scipo.interp1d(alpha_data, cl_data)\n",
        "cm = scipo.interp1d(alpha_data, cm_data)"
      ],
      "execution_count": 0,
      "outputs": []
    },
    {
      "metadata": {
        "id": "lWm7SrUgWYH1",
        "colab_type": "code",
        "colab": {}
      },
      "cell_type": "code",
      "source": [
        "# Do the integration \n",
        "T = 10\n",
        "\n",
        "# U = [alpha, dalpha]\n",
        "\n",
        "# dU_dx not dependent on t hilariously enough \n",
        "def dU_dx(U, t):\n",
        "  alpha = U[0]\n",
        "  return [U[1], -cl(alpha)*r_L*q*S + cm(alpha) * q * S * c + r_T * T * np.sin(theta)]\n",
        "\n",
        "U0 = [0,0]\n",
        "ts = np.linspace(0,10,200)\n",
        "Us = scint.odeint(dU_dx, U0, ts)\n",
        "alphas = Us[:,0]\n",
        "\n"
      ],
      "execution_count": 0,
      "outputs": []
    },
    {
      "metadata": {
        "id": "j-Tl_bIObWjo",
        "colab_type": "code",
        "colab": {
          "base_uri": "https://localhost:8080/",
          "height": 297
        },
        "outputId": "5b7c8f57-3a79-477b-ad7f-27ad36dcc6df"
      },
      "cell_type": "code",
      "source": [
        "plt.xlabel('time [s]')\n",
        "plt.ylabel('alpha[rad]')\n",
        "plt.plot(ts,alphas)\n",
        "plt.show()\n",
        "np.pi/2"
      ],
      "execution_count": 40,
      "outputs": [
        {
          "output_type": "display_data",
          "data": {
            "image/png": "[encoded data removed]",
            "text/plain": [
              "<matplotlib.figure.Figure at 0x7fd472af67f0>"
            ]
          },
          "metadata": {
            "tags": []
          }
        },
        {
          "output_type": "execute_result",
          "data": {
            "text/plain": [
              "1.5707963267948966"
            ]
          },
          "metadata": {
            "tags": []
          },
          "execution_count": 40
        }
      ]
    }
  ]
}